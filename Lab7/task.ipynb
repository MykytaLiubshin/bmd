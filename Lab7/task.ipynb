{
 "cells": [
  {
   "cell_type": "markdown",
   "metadata": {},
   "source": [
    "<h1>Аналіз та обробка БМД</h1>\n",
    "<h2>БС-82</h2>\n",
    "<h3 style=\"font-family:sans-serif;\">Микита Любшин<h3>\n",
    "  <link rel =\"stylesheet\" href=\"style.css\"></link>\n",
    "    <h4>Робота 7</h4>"
   ]
  },
  {
   "cell_type": "markdown",
   "metadata": {},
   "source": [
    "<h2>Про дані</h2>\n",
    "Були обрані реальні дані з kaggle, що містять дані про молодих людей у Братиславі. Далі, за кількісну змінну було взято любов до предмету \"Правознавство\" кожного індивіду. За категоріальну змінну - стать людини.\n",
    "\n",
    "Нульовою гіпотезою в даному дослідженні було обрано рівність середніх любові до предмету \"Правознавство\" у жінок та чоловіків. Альтернативною гіпотезою відповідно нерівність середніх даного параметру.\n",
    "\n",
    "<h2>Виконання</h2>"
   ]
  },
  {
   "cell_type": "code",
   "execution_count": 105,
   "metadata": {},
   "outputs": [],
   "source": [
    "import seaborn as sns\n",
    "import numpy as np\n",
    "import matplotlib.pyplot as plt\n",
    "import pandas as pd\n",
    "from scipy.stats import shapiro\n",
    "%matplotlib inline"
   ]
  },
  {
   "cell_type": "markdown",
   "metadata": {},
   "source": [
    "1. Обрати реальні дані з kaggle або сгенерувати випадкові дані. Дані повинні відповідати вимогам"
   ]
  },
  {
   "cell_type": "code",
   "execution_count": 106,
   "metadata": {},
   "outputs": [
    {
     "data": {
      "text/html": [
       "<div>\n",
       "<style scoped>\n",
       "    .dataframe tbody tr th:only-of-type {\n",
       "        vertical-align: middle;\n",
       "    }\n",
       "\n",
       "    .dataframe tbody tr th {\n",
       "        vertical-align: top;\n",
       "    }\n",
       "\n",
       "    .dataframe thead th {\n",
       "        text-align: right;\n",
       "    }\n",
       "</style>\n",
       "<table border=\"1\" class=\"dataframe\">\n",
       "  <thead>\n",
       "    <tr style=\"text-align: right;\">\n",
       "      <th></th>\n",
       "      <th>Gender</th>\n",
       "      <th>Law</th>\n",
       "    </tr>\n",
       "  </thead>\n",
       "  <tbody>\n",
       "    <tr>\n",
       "      <th>0</th>\n",
       "      <td>female</td>\n",
       "      <td>1.0</td>\n",
       "    </tr>\n",
       "    <tr>\n",
       "      <th>1</th>\n",
       "      <td>female</td>\n",
       "      <td>2.0</td>\n",
       "    </tr>\n",
       "    <tr>\n",
       "      <th>2</th>\n",
       "      <td>female</td>\n",
       "      <td>3.0</td>\n",
       "    </tr>\n",
       "    <tr>\n",
       "      <th>3</th>\n",
       "      <td>female</td>\n",
       "      <td>5.0</td>\n",
       "    </tr>\n",
       "    <tr>\n",
       "      <th>4</th>\n",
       "      <td>female</td>\n",
       "      <td>2.0</td>\n",
       "    </tr>\n",
       "    <tr>\n",
       "      <th>...</th>\n",
       "      <td>...</td>\n",
       "      <td>...</td>\n",
       "    </tr>\n",
       "    <tr>\n",
       "      <th>1005</th>\n",
       "      <td>female</td>\n",
       "      <td>1.0</td>\n",
       "    </tr>\n",
       "    <tr>\n",
       "      <th>1006</th>\n",
       "      <td>male</td>\n",
       "      <td>1.0</td>\n",
       "    </tr>\n",
       "    <tr>\n",
       "      <th>1007</th>\n",
       "      <td>female</td>\n",
       "      <td>1.0</td>\n",
       "    </tr>\n",
       "    <tr>\n",
       "      <th>1008</th>\n",
       "      <td>female</td>\n",
       "      <td>1.0</td>\n",
       "    </tr>\n",
       "    <tr>\n",
       "      <th>1009</th>\n",
       "      <td>male</td>\n",
       "      <td>1.0</td>\n",
       "    </tr>\n",
       "  </tbody>\n",
       "</table>\n",
       "<p>1010 rows × 2 columns</p>\n",
       "</div>"
      ],
      "text/plain": [
       "      Gender  Law\n",
       "0     female  1.0\n",
       "1     female  2.0\n",
       "2     female  3.0\n",
       "3     female  5.0\n",
       "4     female  2.0\n",
       "...      ...  ...\n",
       "1005  female  1.0\n",
       "1006    male  1.0\n",
       "1007  female  1.0\n",
       "1008  female  1.0\n",
       "1009    male  1.0\n",
       "\n",
       "[1010 rows x 2 columns]"
      ]
     },
     "execution_count": 106,
     "metadata": {},
     "output_type": "execute_result"
    }
   ],
   "source": [
    "data = pd.read_csv(\"static/responses.csv\",encoding = 'utf-8')\n",
    "data = data.iloc[:, lambda data: [144, 45]]\n",
    "data"
   ]
  },
  {
   "cell_type": "markdown",
   "metadata": {},
   "source": [
    "<h4>2. Побудувати графік, що відображає розкид даних в групах.</h4>"
   ]
  },
  {
   "cell_type": "code",
   "execution_count": 178,
   "metadata": {},
   "outputs": [
    {
     "name": "stdout",
     "output_type": "stream",
     "text": [
      "150  150\n"
     ]
    },
    {
     "data": {
      "image/png": "[encoded data removed]",
      "text/plain": [
       "<Figure size 864x360 with 1 Axes>"
      ]
     },
     "metadata": {
      "needs_background": "light"
     },
     "output_type": "display_data"
    }
   ],
   "source": [
    "def get_group(data, crit):\n",
    "    return list(map( lambda x: x[1], list(filter( lambda x: x[0] == crit , data.values ))))\n",
    "def filter_group(data):\n",
    "    return list(map( int ,filter( lambda x: not np.isnan(x), data )))[:150]\n",
    "group1 = sorted(filter_group( get_group( data, \"female\" ) ))\n",
    "group2 = sorted(filter_group( get_group( data, \"male\" ) ))\n",
    "\n",
    "\n",
    "print(str(len(group1))+\"  \"+str(len(group2)))\n",
    "dataFrame = pd.DataFrame({\n",
    "     'Група-1': group1,\n",
    "     'Група-2': group2\n",
    "})\n",
    "# dataFrame\n",
    "\n",
    "fig, ax = plt.subplots(figsize=(12,5))\n",
    "fig =  sns.boxplot(orient = \"h\",data = dataFrame, palette=\"pastel\")\n"
   ]
  },
  {
   "cell_type": "markdown",
   "metadata": {},
   "source": [
    "<h4>3. Для оцінки вімінностей дисперсій між групами за критерієм Лівеня. Функція має повертати значення тесту та результат оцінки рівності дисперсій (significant або not significant).</h4>"
   ]
  },
  {
   "cell_type": "code",
   "execution_count": 179,
   "metadata": {},
   "outputs": [],
   "source": [
    "def livens(data):\n",
    "    df = len(data)-1\n",
    "    table = pd.read_excel(\"static/Livens.xlsx\",encoding = 'utf-8')    #Livens coef table\n",
    "    table = table.iloc[\n",
    "        21 if df > 20 else df,\n",
    "        12 if df > 20 else 11 if df > 15 else 10 if df > 10 else df\n",
    "    ]\n",
    "\n",
    "    std1 = np.std(data.iloc[:,0])\n",
    "    std2 = np.std(data.iloc[:,1])\n",
    "    F = std1**2/std2**2 if std1 > std2 else std2**2/std1**2\n",
    "    significant = \"not significant\" if F > table else \"significant\"\n",
    "\n",
    "    return F,df,significant\n",
    "\n",
    "def show_livens_student(data, func):\n",
    "    print(f\"Results:\\n\\tF = {func(*data)[0]}\\n\\tdf = {func(*data)[1]}\\n\\tIt is {func(*data)[2]}\")\n",
    "    return func(*data)"
   ]
  },
  {
   "cell_type": "code",
   "execution_count": 180,
   "metadata": {},
   "outputs": [
    {
     "name": "stdout",
     "output_type": "stream",
     "text": [
      "Results:\n",
      "\tF = 1.0968753531472477\n",
      "\tdf = 149\n",
      "\tIt is significant\n"
     ]
    }
   ],
   "source": [
    "res_livens = show_livens_student([dataFrame], livens)"
   ]
  },
  {
   "cell_type": "markdown",
   "metadata": {},
   "source": [
    "<h4>4. Для визначення відмінності між групами за критерієм Стьюдента в залежності від рівності/відмінності дисперсій. Функція має повертати значення критерію Стьюдента,значення ступеня свободи та результат оцінки значимості зв'зку (significant або not significant).</h4>"
   ]
  },
  {
   "cell_type": "code",
   "execution_count": 191,
   "metadata": {},
   "outputs": [
    {
     "name": "stdout",
     "output_type": "stream",
     "text": [
      "Results:\n",
      "\tF = 1.213796813344988\n",
      "\tdf = 298\n",
      "\tIt is significant\n"
     ]
    }
   ],
   "source": [
    "def student(data, liv):\n",
    "    std1 = np.std(data.iloc[:,0])\n",
    "    std2 = np.std(data.iloc[:,1])\n",
    "    \n",
    "    m1 = np.mean(data.iloc[:,0])\n",
    "    m2 = np.mean(data.iloc[:,1])\n",
    "    \n",
    "    n = len(data)\n",
    "    \n",
    "    df = 2*n - 2\n",
    "    table_values= pd.read_excel(\"static/Students.xlsx\",encoding = 'utf-8')    #Students coefs table\n",
    "    table_val, i = 0, 0\n",
    "    \n",
    "    while i < len(table_values) and table_val == 0:\n",
    "        if(df < int(table_values.iloc[i,0])):\n",
    "            if(df != table_values.iloc[i-1,0]):\n",
    "                table_val = (table_values.iloc[i-1,1] if((table_values.iloc[i,0]-df) >= abs(table_values.iloc[i-1,0]-df)) else table_values.iloc[i,1])\n",
    "            else:\n",
    "                table_val = table_values.iloc[i-1,1]\n",
    "        i += 1\n",
    "    \n",
    "    t = abs(m1-m2)/np.sqrt(std1**2/n + std2**2/n) if liv[2] == \"significant\" else abs(m1-m2)/np.sqrt(((n-1)*(std1**2) + (n-1)*(std2**2))/(df)*(2/n))\n",
    " \n",
    "    significant = \"significant\" if(t < table_val) else \"not significant\"\n",
    "    return t,df,significant\n",
    "\n",
    "student_res = show_livens_student([dataFrame, res_livens], student)\n"
   ]
  },
  {
   "cell_type": "markdown",
   "metadata": {},
   "source": [
    "<h4>5.Перевірити розбіжність на між групами на даних з п. 1.</h4>"
   ]
  },
  {
   "cell_type": "code",
   "execution_count": 193,
   "metadata": {},
   "outputs": [
    {
     "data": {
      "text/html": [
       "<div>\n",
       "<style scoped>\n",
       "    .dataframe tbody tr th:only-of-type {\n",
       "        vertical-align: middle;\n",
       "    }\n",
       "\n",
       "    .dataframe tbody tr th {\n",
       "        vertical-align: top;\n",
       "    }\n",
       "\n",
       "    .dataframe thead th {\n",
       "        text-align: right;\n",
       "    }\n",
       "</style>\n",
       "<table border=\"1\" class=\"dataframe\">\n",
       "  <thead>\n",
       "    <tr style=\"text-align: right;\">\n",
       "      <th></th>\n",
       "      <th>Критерій Лівені</th>\n",
       "      <th>Критерій Стьюдента</th>\n",
       "    </tr>\n",
       "  </thead>\n",
       "  <tbody>\n",
       "    <tr>\n",
       "      <th>Значення</th>\n",
       "      <td>1.09688</td>\n",
       "      <td>1.2138</td>\n",
       "    </tr>\n",
       "    <tr>\n",
       "      <th>ступінь свободи</th>\n",
       "      <td>149</td>\n",
       "      <td>298</td>\n",
       "    </tr>\n",
       "    <tr>\n",
       "      <th>Значимість зв'язку</th>\n",
       "      <td>significant</td>\n",
       "      <td>significant</td>\n",
       "    </tr>\n",
       "  </tbody>\n",
       "</table>\n",
       "</div>"
      ],
      "text/plain": [
       "                   Критерій Лівені Критерій Стьюдента\n",
       "Значення                   1.09688             1.2138\n",
       "ступінь свободи                149                298\n",
       "Значимість зв'язку     significant        significant"
      ]
     },
     "execution_count": 193,
     "metadata": {},
     "output_type": "execute_result"
    }
   ],
   "source": [
    "table = pd.DataFrame({\n",
    "    \"Критерій Лівені\":res_livens,\n",
    "    \"Критерій Стьюдента\":student_res\n",
    "}, index = [\"Значення\", \"ступінь свободи\", \"Значимість зв'язку\"])\n",
    "table"
   ]
  },
  {
   "cell_type": "markdown",
   "metadata": {},
   "source": [
    "<h4>6.Сформувати висновок про взаємозв'язок між групами та про їх розбіжність.</h4>"
   ]
  },
  {
   "cell_type": "code",
   "execution_count": 194,
   "metadata": {},
   "outputs": [
    {
     "name": "stdout",
     "output_type": "stream",
     "text": [
      "Дисперсії статистично рівні\n",
      "Середні статистично   рівні\n"
     ]
    }
   ],
   "source": [
    "print(f\"Дисперсії статистично {'рівні' if table.iloc[2,0] == 'significant' else 'відмінні'}\")\n",
    "print(f\"Середні статистично   {'рівні' if table.iloc[2,0] == 'significant' else 'відмінні'}\")"
   ]
  }
 ],
 "metadata": {
  "kernelspec": {
   "display_name": "Python 3",
   "language": "python",
   "name": "python3"
  },
  "language_info": {
   "codemirror_mode": {
    "name": "ipython",
    "version": 3
   },
   "file_extension": ".py",
   "mimetype": "text/x-python",
   "name": "python",
   "nbconvert_exporter": "python",
   "pygments_lexer": "ipython3",
   "version": "3.6.9"
  }
 },
 "nbformat": 4,
 "nbformat_minor": 4
}
