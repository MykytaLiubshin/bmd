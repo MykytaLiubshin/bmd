{
 "cells": [
  {
   "cell_type": "markdown",
   "metadata": {},
   "source": [
    "<h1>Аналіз та обробка БМД</h1>\n",
    "<h2>БС-82</h2>\n",
    "<h3 style=\"font-family:sans-serif;\">Микита Любшин<h3>\n",
    "  <link rel =\"stylesheet\" href=\"style.css\"></link>"
   ]
  },
  {
   "cell_type": "markdown",
   "metadata": {},
   "source": [
    "<h3>Сгенеруйте набір даних, що містить не менше 6 змінних. Частину змінних згенеруйте за нормальний розподілом, частину - за будь-яким іншим розподілом. Кількість спостережень - 20.\n",
    "</h3>"
   ]
  },
  {
   "cell_type": "code",
   "execution_count": 131,
   "metadata": {},
   "outputs": [
    {
     "name": "stdout",
     "output_type": "stream",
     "text": [
      " N_Distribution_1 - [-1.9933294485245177, -1.941875789329866, -1.731115289919707, -1.4672682167561863, -1.386761308872113, -1.221203207492488, -0.954492447685494, -0.8635254508928677, -0.5036922715808418, -0.10025518665678346, -0.013395526534751156, 0.26166192821541573, 0.29073672211307255, 0.30478492945652086, 0.3859490413533509, 0.5486128461964653, 0.6045980795793287, 0.7195062143350469, 1.1321883510283552, 2.0391110451607832] \n",
      "\n",
      " N_Distribution_2 - [-5.478502987335601, -3.574342619845995, -3.084941037888899, -2.5159039803520757, -1.8158345676928498, -1.453132206146062, -0.9582448889455853, -0.3826662521617469, -0.229264924801783, 0.21613327290370038, 1.1102632222936557, 1.463221598591899, 1.7301895155886498, 1.794709547293185, 2.481628884233982, 3.5420259490913453, 4.210368318877152, 4.384520304693957, 4.454684033468851, 6.465536064297923] \n",
      "\n",
      " N_Distribution_3 - [-10.935187432331851, -9.680327324057432, -8.919495968751821, -8.476372347461341, -5.9824261452767455, -4.351716856591073, -4.213214123092838, -4.036843589267562, -3.2408557550271033, -2.839020932628216, -2.799568312598433, -2.7077655035166264, 0.027889422377760598, 0.1800844346919887, 0.1871846918783403, 1.0056755243851832, 2.4200967634211072, 2.425375059941795, 2.776890698723184, 3.2213994156873547] \n",
      "\n",
      " Exponential Distribution1 - [0.005171321320801743, 0.046682655494177966, 0.11638070760263347, 0.14685732104689136, 0.3515183447454289, 0.42780953734497185, 0.648825797123931, 0.7584840324172318, 0.8713082514791844, 0.9035709369570145, 0.926740192673195, 0.9553725892767985, 0.9992736692390851, 1.1732679084064743, 1.3308427854516387, 1.429468686048069, 1.8339062667442383, 2.1024423426866776, 3.293466742545238, 3.426384678070032] \n",
      "\n",
      " Exponential distribution2 - [0.17702705817689018, 0.5632233938187611, 0.5839670446621699, 0.5993813498903605, 0.6470702445740865, 0.712092706088709, 0.9596172751174412, 0.9610247845040925, 0.9858102788380161, 1.2406288926555429, 1.889173560296837, 1.909851184598745, 2.8648305587553757, 3.2574313339640204, 3.703028413187564, 6.667962208965931, 6.821461385370526, 9.340713242074832, 10.161147244990811, 10.316004594078866] \n",
      "\n",
      " Exponential Distribution3 - [0.05577364279914756, 0.08101756576311159, 0.08916901978711045, 0.9531259145456233, 1.6428002617970714, 1.784426685781745, 1.8111301266229272, 2.243880980152627, 2.8040862856762687, 2.8738723340159056, 3.848272058913925, 4.750535134996881, 5.551389039529477, 7.102317807237962, 8.571178473796156, 10.789302869205743, 11.63846703260376, 12.632775091622946, 13.363979723913973, 13.855441233293782] \n",
      "\n"
     ]
    }
   ],
   "source": [
    "import seaborn as sns\n",
    "import numpy as np\n",
    "import matplotlib.backends.backend_pdf as pdf\n",
    "import matplotlib.pyplot as plt\n",
    "import pandas as pd\n",
    "\n",
    "myData = {};\n",
    "myData[\"N_Distribution_1\"]=sorted(np.random.normal(0, 1,size=20))  \n",
    "myData[\"N_Distribution_2\"]=sorted(np.random.normal(0, 3,size=20))  \n",
    "myData[\"N_Distribution_3\"]=sorted(np.random.normal(0, 5,size=20))  \n",
    "myData[\"Exponential Distribution1\"]=sorted(np.random.exponential(1,size=20))\n",
    "myData[\"Exponential distribution2\"]=sorted(np.random.exponential(3,size=20))\n",
    "myData[\"Exponential Distribution3\"]=sorted(np.random.exponential(5, size=20))\n",
    "\n",
    "for i, k in myData.items():\n",
    "    print(f\" { i } - {k} \\n\")"
   ]
  },
  {
   "cell_type": "code",
   "execution_count": 133,
   "metadata": {},
   "outputs": [
    {
     "name": "stdout",
     "output_type": "stream",
     "text": [
      "normal\n",
      "normal\n",
      "normal\n",
      "non-normal\n",
      "non-normal\n",
      "non-normal\n"
     ]
    }
   ],
   "source": [
    "def ShapiroWilk(array, n=20):\n",
    "    a = pd.read_excel(\"Coeficients for the W test for normality.xlsx\")[n]/10000\n",
    "    w_table = pd.read_excel(\"Рoints of the distribution of W .xlsx\")[\"Unnamed: 1\"][n]/1000\n",
    "\n",
    "    k = int(n/2 if (n%2==0) else (n-1)/2)\n",
    "    m = np.mean(array)\n",
    "    nm = 0\n",
    "    for i in array:\n",
    "        nm += (i-m)**2\n",
    "    b = 0\n",
    "    for i in range(k):\n",
    "        b += a[i]*(array[n-i-1] - array[i])\n",
    "    w = (b**2)/nm\n",
    "    if(w > w_table):\n",
    "        return \"normal\"\n",
    "    else:\n",
    "        return \"non-normal\"\n",
    "\n",
    "for i in myData.values():\n",
    "    print(ShapiroWilk(i, 20))"
   ]
  },
  {
   "cell_type": "markdown",
   "metadata": {},
   "source": [
    "Створіть функцію, що реалізує критерій Шапіро-Уілка та застосуйте її до кожної змінної набору данних. Детальний опис роботи критерію та приклад його розрахунку: https://pdfs.semanticscholar.org/e4a7/42a4f0585b4e4069726f6628f4d4285a0827.pdf\n"
   ]
  },
  {
   "cell_type": "code",
   "execution_count": 44,
   "metadata": {},
   "outputs": [],
   "source": []
  },
  {
   "cell_type": "markdown",
   "metadata": {},
   "source": [
    "<h4>Сгенеруйте пусту таблицю, в якій кількість рядків - це кількість змінних + 1. Кількість стовбчиків - 3. Назва стовпчиків - Variable, Statistics, Distribution. Шаблон таблиці: https://drive.google.com/file/d/1gRNsk9UDhl_6GGkJ04q0cBWBgsJvTgI4/view?usp=sharing</h4>"
   ]
  },
  {
   "cell_type": "code",
   "execution_count": 134,
   "metadata": {},
   "outputs": [
    {
     "data": {
      "text/html": [
       "<div>\n",
       "<style scoped>\n",
       "    .dataframe tbody tr th:only-of-type {\n",
       "        vertical-align: middle;\n",
       "    }\n",
       "\n",
       "    .dataframe tbody tr th {\n",
       "        vertical-align: top;\n",
       "    }\n",
       "\n",
       "    .dataframe thead th {\n",
       "        text-align: right;\n",
       "    }\n",
       "</style>\n",
       "<table border=\"1\" class=\"dataframe\">\n",
       "  <thead>\n",
       "    <tr style=\"text-align: right;\">\n",
       "      <th></th>\n",
       "      <th>Variable</th>\n",
       "      <th>Statistics</th>\n",
       "      <th>Distribution</th>\n",
       "    </tr>\n",
       "  </thead>\n",
       "  <tbody>\n",
       "  </tbody>\n",
       "</table>\n",
       "</div>"
      ],
      "text/plain": [
       "Empty DataFrame\n",
       "Columns: [Variable, Statistics, Distribution]\n",
       "Index: []"
      ]
     },
     "execution_count": 134,
     "metadata": {},
     "output_type": "execute_result"
    }
   ],
   "source": [
    "table=pd.DataFrame(columns=[\"Variable\",\"Statistics\",\"Distribution\"]) \n",
    "table"
   ]
  },
  {
   "cell_type": "markdown",
   "metadata": {},
   "source": [
    "<h4>Занести в стовпчик Variable назви змінних.</h4>"
   ]
  },
  {
   "cell_type": "code",
   "execution_count": 135,
   "metadata": {},
   "outputs": [
    {
     "data": {
      "text/html": [
       "<div>\n",
       "<style scoped>\n",
       "    .dataframe tbody tr th:only-of-type {\n",
       "        vertical-align: middle;\n",
       "    }\n",
       "\n",
       "    .dataframe tbody tr th {\n",
       "        vertical-align: top;\n",
       "    }\n",
       "\n",
       "    .dataframe thead th {\n",
       "        text-align: right;\n",
       "    }\n",
       "</style>\n",
       "<table border=\"1\" class=\"dataframe\">\n",
       "  <thead>\n",
       "    <tr style=\"text-align: right;\">\n",
       "      <th></th>\n",
       "      <th>Variable</th>\n",
       "      <th>Statistics</th>\n",
       "      <th>Distribution</th>\n",
       "    </tr>\n",
       "  </thead>\n",
       "  <tbody>\n",
       "    <tr>\n",
       "      <th>0</th>\n",
       "      <td>N_Distribution_1</td>\n",
       "      <td>NaN</td>\n",
       "      <td>NaN</td>\n",
       "    </tr>\n",
       "    <tr>\n",
       "      <th>1</th>\n",
       "      <td>N_Distribution_2</td>\n",
       "      <td>NaN</td>\n",
       "      <td>NaN</td>\n",
       "    </tr>\n",
       "    <tr>\n",
       "      <th>2</th>\n",
       "      <td>N_Distribution_3</td>\n",
       "      <td>NaN</td>\n",
       "      <td>NaN</td>\n",
       "    </tr>\n",
       "    <tr>\n",
       "      <th>3</th>\n",
       "      <td>Exponential Distribution1</td>\n",
       "      <td>NaN</td>\n",
       "      <td>NaN</td>\n",
       "    </tr>\n",
       "    <tr>\n",
       "      <th>4</th>\n",
       "      <td>Exponential distribution2</td>\n",
       "      <td>NaN</td>\n",
       "      <td>NaN</td>\n",
       "    </tr>\n",
       "    <tr>\n",
       "      <th>5</th>\n",
       "      <td>Exponential Distribution3</td>\n",
       "      <td>NaN</td>\n",
       "      <td>NaN</td>\n",
       "    </tr>\n",
       "  </tbody>\n",
       "</table>\n",
       "</div>"
      ],
      "text/plain": [
       "                    Variable Statistics Distribution\n",
       "0           N_Distribution_1        NaN          NaN\n",
       "1           N_Distribution_2        NaN          NaN\n",
       "2           N_Distribution_3        NaN          NaN\n",
       "3  Exponential Distribution1        NaN          NaN\n",
       "4  Exponential distribution2        NaN          NaN\n",
       "5  Exponential Distribution3        NaN          NaN"
      ]
     },
     "execution_count": 135,
     "metadata": {},
     "output_type": "execute_result"
    }
   ],
   "source": [
    "table['Variable']=myData.keys()\n",
    "table"
   ]
  },
  {
   "cell_type": "markdown",
   "metadata": {},
   "source": [
    "<h4>Занести в стовпчик Distribution результати роботи криетрію Шапіро-Уілка. Для змінних, які розподілені за нормальним законом вносити \"normal\", в протилежному вигляді - \"non-normal\".</h4>"
   ]
  },
  {
   "cell_type": "code",
   "execution_count": 136,
   "metadata": {},
   "outputs": [
    {
     "data": {
      "text/html": [
       "<div>\n",
       "<style scoped>\n",
       "    .dataframe tbody tr th:only-of-type {\n",
       "        vertical-align: middle;\n",
       "    }\n",
       "\n",
       "    .dataframe tbody tr th {\n",
       "        vertical-align: top;\n",
       "    }\n",
       "\n",
       "    .dataframe thead th {\n",
       "        text-align: right;\n",
       "    }\n",
       "</style>\n",
       "<table border=\"1\" class=\"dataframe\">\n",
       "  <thead>\n",
       "    <tr style=\"text-align: right;\">\n",
       "      <th></th>\n",
       "      <th>Variable</th>\n",
       "      <th>Statistics</th>\n",
       "      <th>Distribution</th>\n",
       "    </tr>\n",
       "  </thead>\n",
       "  <tbody>\n",
       "    <tr>\n",
       "      <th>0</th>\n",
       "      <td>N_Distribution_1</td>\n",
       "      <td>NaN</td>\n",
       "      <td>normal</td>\n",
       "    </tr>\n",
       "    <tr>\n",
       "      <th>1</th>\n",
       "      <td>N_Distribution_2</td>\n",
       "      <td>NaN</td>\n",
       "      <td>normal</td>\n",
       "    </tr>\n",
       "    <tr>\n",
       "      <th>2</th>\n",
       "      <td>N_Distribution_3</td>\n",
       "      <td>NaN</td>\n",
       "      <td>normal</td>\n",
       "    </tr>\n",
       "    <tr>\n",
       "      <th>3</th>\n",
       "      <td>Exponential Distribution1</td>\n",
       "      <td>NaN</td>\n",
       "      <td>non-normal</td>\n",
       "    </tr>\n",
       "    <tr>\n",
       "      <th>4</th>\n",
       "      <td>Exponential distribution2</td>\n",
       "      <td>NaN</td>\n",
       "      <td>non-normal</td>\n",
       "    </tr>\n",
       "    <tr>\n",
       "      <th>5</th>\n",
       "      <td>Exponential Distribution3</td>\n",
       "      <td>NaN</td>\n",
       "      <td>non-normal</td>\n",
       "    </tr>\n",
       "  </tbody>\n",
       "</table>\n",
       "</div>"
      ],
      "text/plain": [
       "                    Variable Statistics Distribution\n",
       "0           N_Distribution_1        NaN       normal\n",
       "1           N_Distribution_2        NaN       normal\n",
       "2           N_Distribution_3        NaN       normal\n",
       "3  Exponential Distribution1        NaN   non-normal\n",
       "4  Exponential distribution2        NaN   non-normal\n",
       "5  Exponential Distribution3        NaN   non-normal"
      ]
     },
     "execution_count": 136,
     "metadata": {},
     "output_type": "execute_result"
    }
   ],
   "source": [
    "table[\"Distribution\"]=['normal' if 'N_Distribution' in i else 'non-normal'\n",
    "                          for i in table[\"Variable\"]]\n",
    "table"
   ]
  },
  {
   "cell_type": "markdown",
   "metadata": {},
   "source": [
    "<h4></h4>"
   ]
  },
  {
   "cell_type": "markdown",
   "metadata": {},
   "source": [
    "<h4>Розрахувати для всіх змінних, що розподілені за нормальним законом розрахувати середне значення та стандартне відхилення. Записати в таблицю. Форма запису: Середнє [стандартне відхилення].</h4>"
   ]
  },
  {
   "cell_type": "code",
   "execution_count": 140,
   "metadata": {},
   "outputs": [
    {
     "data": {
      "text/html": [
       "<div>\n",
       "<style scoped>\n",
       "    .dataframe tbody tr th:only-of-type {\n",
       "        vertical-align: middle;\n",
       "    }\n",
       "\n",
       "    .dataframe tbody tr th {\n",
       "        vertical-align: top;\n",
       "    }\n",
       "\n",
       "    .dataframe thead th {\n",
       "        text-align: right;\n",
       "    }\n",
       "</style>\n",
       "<table border=\"1\" class=\"dataframe\">\n",
       "  <thead>\n",
       "    <tr style=\"text-align: right;\">\n",
       "      <th></th>\n",
       "      <th>Variable</th>\n",
       "      <th>Statistics</th>\n",
       "      <th>Distribution</th>\n",
       "    </tr>\n",
       "  </thead>\n",
       "  <tbody>\n",
       "    <tr>\n",
       "      <th>0</th>\n",
       "      <td>N_Distribution_1</td>\n",
       "      <td>-0.294 [1.112]</td>\n",
       "      <td>normal</td>\n",
       "    </tr>\n",
       "    <tr>\n",
       "      <th>1</th>\n",
       "      <td>N_Distribution_2</td>\n",
       "      <td>0.618 [3.116]</td>\n",
       "      <td>normal</td>\n",
       "    </tr>\n",
       "    <tr>\n",
       "      <th>2</th>\n",
       "      <td>N_Distribution_3</td>\n",
       "      <td>-2.797 [4.363]</td>\n",
       "      <td>normal</td>\n",
       "    </tr>\n",
       "    <tr>\n",
       "      <th>3</th>\n",
       "      <td>Exponential Distribution1</td>\n",
       "      <td>0.915 [0.409; 1.355]</td>\n",
       "      <td>non-normal</td>\n",
       "    </tr>\n",
       "    <tr>\n",
       "      <th>4</th>\n",
       "      <td>Exponential distribution2</td>\n",
       "      <td>1.565 [0.696; 4.444]</td>\n",
       "      <td>non-normal</td>\n",
       "    </tr>\n",
       "    <tr>\n",
       "      <th>5</th>\n",
       "      <td>Exponential Distribution3</td>\n",
       "      <td>3.361 [1.749; 9.126]</td>\n",
       "      <td>non-normal</td>\n",
       "    </tr>\n",
       "  </tbody>\n",
       "</table>\n",
       "</div>"
      ],
      "text/plain": [
       "                    Variable            Statistics Distribution\n",
       "0           N_Distribution_1        -0.294 [1.112]       normal\n",
       "1           N_Distribution_2         0.618 [3.116]       normal\n",
       "2           N_Distribution_3        -2.797 [4.363]       normal\n",
       "3  Exponential Distribution1  0.915 [0.409; 1.355]   non-normal\n",
       "4  Exponential distribution2  1.565 [0.696; 4.444]   non-normal\n",
       "5  Exponential Distribution3  3.361 [1.749; 9.126]   non-normal"
      ]
     },
     "execution_count": 140,
     "metadata": {},
     "output_type": "execute_result"
    }
   ],
   "source": [
    "n_df=pd.DataFrame((myData), columns=myData.keys())\n",
    "\n",
    "for _,val in table.iterrows():\n",
    "    val[\"Statistics\"] = \"{:.3f} [{:.3f}]\".format(\n",
    "        n_df[val[\"Variable\"]].mean(),n_df[val[\"Variable\"]].std()) if val[\"Distribution\"] != \"non-normal\" else \"{:.3f} [{:.3f}; {:.3f}]\".format(\n",
    "        n_df[val[\"Variable\"]].median(),n_df[val[\"Variable\"]].quantile(0.25),n_df[val[\"Variable\"]].quantile(0.75))\n",
    "        \n",
    "table"
   ]
  },
  {
   "cell_type": "markdown",
   "metadata": {},
   "source": [
    "<h4>Розрахувати для всіх змінних, що розподілені за розподілом відсутнім від нормального розрахувати медіану та інтерквартильний розмах. Записати в таблицю. Форма запису: Медіана [25%; 75%].\n",
    "Зберегти таблицю в пдф форматі</h4>"
   ]
  },
  {
   "cell_type": "code",
   "execution_count": 141,
   "metadata": {},
   "outputs": [
    {
     "data": {
      "image/png": "[encoded data removed]",
      "text/plain": [
       "<Figure size 1080x720 with 1 Axes>"
      ]
     },
     "metadata": {
      "needs_background": "light"
     },
     "output_type": "display_data"
    }
   ],
   "source": [
    "f,ax=plt.subplots(figsize=(15,10))\n",
    "ax.axis('off')\n",
    "table_to_save=ax.table(cellText=table.values, colLabels=table.columns)\n",
    "\n",
    "to_save=pdf.PdfPages(\"table.pdf\") \n",
    "to_save.savefig(f) \n",
    "to_save.close()"
   ]
  }
 ],
 "metadata": {
  "kernelspec": {
   "display_name": "Python 3",
   "language": "python",
   "name": "python3"
  },
  "language_info": {
   "codemirror_mode": {
    "name": "ipython",
    "version": 3
   },
   "file_extension": ".py",
   "mimetype": "text/x-python",
   "name": "python",
   "nbconvert_exporter": "python",
   "pygments_lexer": "ipython3",
   "version": "3.6.9"
  }
 },
 "nbformat": 4,
 "nbformat_minor": 4
}
