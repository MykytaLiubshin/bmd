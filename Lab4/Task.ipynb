{
 "cells": [
  {
   "cell_type": "markdown",
   "metadata": {},
   "source": [
    "<h1>Аналіз та обробка БМД</h1>\n",
    "<h2>БС-82</h2>\n",
    "<h3 style=\"font-family:sans-serif;\">Микита Любшин<h3>\n",
    "  <link rel =\"stylesheet\" href=\"style.css\"></link>"
   ]
  },
  {
   "cell_type": "markdown",
   "metadata": {},
   "source": [
    "<h3>Сгенеруйте набір даних, що містить не менше 6 змінних. Частину змінних згенеруйте за нормальний розподілом, частину - за будь-яким іншим розподілом. Кількість спостережень - 20.\n",
    "</h3>"
   ]
  },
  {
   "cell_type": "code",
   "execution_count": 125,
   "metadata": {},
   "outputs": [
    {
     "name": "stdout",
     "output_type": "stream",
     "text": [
      " N_Distribution_1 - [-0.43103721  1.75227184  1.00465169 -1.51799097  0.61454678  0.03967822\n",
      " -0.88956023  1.73017148  1.0792577   3.26591527 -0.89370521  1.14626684\n",
      "  1.29247492  0.39206227 -0.65735647 -0.91460564 -0.10398868  0.97609368\n",
      " -0.31685955  0.10817961] \n",
      "\n",
      " N_Distribution_2 - [ 0.48248877 -1.5781592  -0.28954169  0.21954175 -0.86666493  0.93845955\n",
      "  1.63529197  0.52343805  0.85748537 -0.52149605  0.4555362   0.76310918\n",
      " -0.79246393 -0.52370613 -0.05794552 -0.15838213 -1.23410338 -0.7988498\n",
      "  1.41472324 -0.07976136] \n",
      "\n",
      " N_Distribution_3 - [-2.0023598  -0.1045554  -0.62356816 -1.22636828 -1.19103255 -1.47350998\n",
      " -2.03012053 -1.88628246  0.53152575 -0.57206958 -0.75468915  1.30539628\n",
      " -0.80227711 -0.79526218  0.95546103 -1.05582507  0.31047703  0.02553247\n",
      "  0.03499911 -1.5081401 ] \n",
      "\n",
      " Uniform Distribution1 - [1.39449084 1.65217214 1.1982936  1.37504232 1.97548379 1.01785681\n",
      " 1.75182581 1.21335345 1.42467019 1.93666783 1.0275656  1.49841376\n",
      " 1.65467637 1.74449905 1.10074054 1.12071636 1.52366221 1.32738175\n",
      " 1.48942942 1.12176107] \n",
      "\n",
      " Exponential distribution. - [ 7.47212963 11.61153285  6.09207334  2.81853976  4.74967007  2.46293091\n",
      "  1.760194    1.68984491  1.87594691  3.66167376 16.13280801  0.91867373\n",
      "  0.71328485  5.17856838  5.0075222  29.41453922  6.06194928  1.85716129\n",
      "  4.90953804  1.52013051] \n",
      "\n",
      " Uniform Distribution2 - [0.45474706 0.72011002 0.02930591 0.5857107  0.77515919 0.76906386\n",
      " 0.17238432 0.0582583  0.38886471 0.48656432 0.88365846 0.10957178\n",
      " 0.38829688 0.54570612 0.7227128  0.27001011 0.44031741 0.31381102\n",
      " 0.88778277 0.60339839] \n",
      "\n"
     ]
    }
   ],
   "source": [
    "import seaborn as sns\n",
    "import numpy as np\n",
    "import matplotlib.backends.backend_pdf as pdf\n",
    "import matplotlib.pyplot as plt\n",
    "import pandas as pd\n",
    "\n",
    "myData = {};\n",
    "myData[\"N_Distribution_1\"]=(np.random.normal(size=20))  \n",
    "myData[\"N_Distribution_2\"]=(np.random.normal(size=20))  \n",
    "myData[\"N_Distribution_3\"]=(np.random.normal(size=20))  \n",
    "myData[\"Uniform Distribution1\"]=(np.random.uniform(low=1,high=2,size=20))\n",
    "myData[\"Exponential distribution.\"]=(np.random.exponential(5,size=20))\n",
    "myData[\"Uniform Distribution2\"]=(np.random.uniform(size=20))\n",
    "\n",
    "for i, k in myData.items():\n",
    "    print(f\" { i } - {k} \\n\")"
   ]
  },
  {
   "cell_type": "markdown",
   "metadata": {},
   "source": [
    "Створіть функцію, що реалізує критерій Шапіро-Уілка та застосуйте її до кожної змінної набору данних. Детальний опис роботи критерію та приклад його розрахунку: https://pdfs.semanticscholar.org/e4a7/42a4f0585b4e4069726f6628f4d4285a0827.pdf\n"
   ]
  },
  {
   "cell_type": "code",
   "execution_count": 70,
   "metadata": {},
   "outputs": [
    {
     "name": "stdout",
     "output_type": "stream",
     "text": [
      "Disribution is normal\n",
      "Disribution is normal\n",
      "Disribution is normal\n",
      "Disribution is not normal\n",
      "Disribution is normal\n",
      "Disribution is not normal\n"
     ]
    }
   ],
   "source": [
    "def ShapiroWilk(data, num_of_var ,num_of_observations=20):  \n",
    "    map( lambda x: x.sort() , data.values()) # Value sorting\n",
    "    s = [sum([ (i - np.mean(val)) **2 for i in val]) for val in data.values()]\n",
    "    ex1=pd.read_excel('Coeficients for the W test for normality.xlsx')[num_of_observations-1]/10000   \n",
    "    b = [ np.multiply(ex1[:10], (np.flip(value[len(value)//2:])-value[:len(value)//2])) for value in data.values() ]\n",
    "    array_s = [ (i**2)/s[i] for i in range(len(b))]\n",
    "    \n",
    "    print(\"\\n\".join(map( lambda i:f\"Disribution is {'not normal' if i>0.905 else 'normal'}\" , array_s)))\n",
    "        \n",
    "ShapiroWilk(myData,6,20)"
   ]
  },
  {
   "cell_type": "markdown",
   "metadata": {},
   "source": [
    "<h4>Сгенеруйте пусту таблицю, в якій кількість рядків - це кількість змінних + 1. Кількість стовбчиків - 3. Назва стовпчиків - Variable, Statistics, Distribution. Шаблон таблиці: https://drive.google.com/file/d/1gRNsk9UDhl_6GGkJ04q0cBWBgsJvTgI4/view?usp=sharing</h4>"
   ]
  },
  {
   "cell_type": "code",
   "execution_count": 71,
   "metadata": {},
   "outputs": [
    {
     "data": {
      "text/html": [
       "<div>\n",
       "<style scoped>\n",
       "    .dataframe tbody tr th:only-of-type {\n",
       "        vertical-align: middle;\n",
       "    }\n",
       "\n",
       "    .dataframe tbody tr th {\n",
       "        vertical-align: top;\n",
       "    }\n",
       "\n",
       "    .dataframe thead th {\n",
       "        text-align: right;\n",
       "    }\n",
       "</style>\n",
       "<table border=\"1\" class=\"dataframe\">\n",
       "  <thead>\n",
       "    <tr style=\"text-align: right;\">\n",
       "      <th></th>\n",
       "      <th>Variable</th>\n",
       "      <th>Statistics</th>\n",
       "      <th>Distribution</th>\n",
       "    </tr>\n",
       "  </thead>\n",
       "  <tbody>\n",
       "  </tbody>\n",
       "</table>\n",
       "</div>"
      ],
      "text/plain": [
       "Empty DataFrame\n",
       "Columns: [Variable, Statistics, Distribution]\n",
       "Index: []"
      ]
     },
     "execution_count": 71,
     "metadata": {},
     "output_type": "execute_result"
    }
   ],
   "source": [
    "table=pd.DataFrame(columns=[\"Variable\",\"Statistics\",\"Distribution\"]) \n",
    "table"
   ]
  },
  {
   "cell_type": "markdown",
   "metadata": {},
   "source": [
    "<h4>Занести в стовпчик Variable назви змінних.</h4>"
   ]
  },
  {
   "cell_type": "code",
   "execution_count": 73,
   "metadata": {},
   "outputs": [
    {
     "data": {
      "text/html": [
       "<div>\n",
       "<style scoped>\n",
       "    .dataframe tbody tr th:only-of-type {\n",
       "        vertical-align: middle;\n",
       "    }\n",
       "\n",
       "    .dataframe tbody tr th {\n",
       "        vertical-align: top;\n",
       "    }\n",
       "\n",
       "    .dataframe thead th {\n",
       "        text-align: right;\n",
       "    }\n",
       "</style>\n",
       "<table border=\"1\" class=\"dataframe\">\n",
       "  <thead>\n",
       "    <tr style=\"text-align: right;\">\n",
       "      <th></th>\n",
       "      <th>Variable</th>\n",
       "      <th>Statistics</th>\n",
       "      <th>Distribution</th>\n",
       "    </tr>\n",
       "  </thead>\n",
       "  <tbody>\n",
       "    <tr>\n",
       "      <th>0</th>\n",
       "      <td>N_Distribution_1</td>\n",
       "      <td>NaN</td>\n",
       "      <td>NaN</td>\n",
       "    </tr>\n",
       "    <tr>\n",
       "      <th>1</th>\n",
       "      <td>N_Distribution_2</td>\n",
       "      <td>NaN</td>\n",
       "      <td>NaN</td>\n",
       "    </tr>\n",
       "    <tr>\n",
       "      <th>2</th>\n",
       "      <td>N_Distribution_3</td>\n",
       "      <td>NaN</td>\n",
       "      <td>NaN</td>\n",
       "    </tr>\n",
       "    <tr>\n",
       "      <th>3</th>\n",
       "      <td>Uniform Distribution1</td>\n",
       "      <td>NaN</td>\n",
       "      <td>NaN</td>\n",
       "    </tr>\n",
       "    <tr>\n",
       "      <th>4</th>\n",
       "      <td>Exponential distribution.</td>\n",
       "      <td>NaN</td>\n",
       "      <td>NaN</td>\n",
       "    </tr>\n",
       "    <tr>\n",
       "      <th>5</th>\n",
       "      <td>Uniform Distribution2</td>\n",
       "      <td>NaN</td>\n",
       "      <td>NaN</td>\n",
       "    </tr>\n",
       "  </tbody>\n",
       "</table>\n",
       "</div>"
      ],
      "text/plain": [
       "                    Variable Statistics Distribution\n",
       "0           N_Distribution_1        NaN          NaN\n",
       "1           N_Distribution_2        NaN          NaN\n",
       "2           N_Distribution_3        NaN          NaN\n",
       "3      Uniform Distribution1        NaN          NaN\n",
       "4  Exponential distribution.        NaN          NaN\n",
       "5      Uniform Distribution2        NaN          NaN"
      ]
     },
     "execution_count": 73,
     "metadata": {},
     "output_type": "execute_result"
    }
   ],
   "source": [
    "table['Variable']=myData.keys()\n",
    "table"
   ]
  },
  {
   "cell_type": "markdown",
   "metadata": {},
   "source": [
    "<h4>Занести в стовпчик Distribution результати роботи криетрію Шапіро-Уілка. Для змінних, які розподілені за нормальним законом вносити \"normal\", в протилежному вигляді - \"non-normal\".</h4>"
   ]
  },
  {
   "cell_type": "code",
   "execution_count": 77,
   "metadata": {},
   "outputs": [
    {
     "data": {
      "text/html": [
       "<div>\n",
       "<style scoped>\n",
       "    .dataframe tbody tr th:only-of-type {\n",
       "        vertical-align: middle;\n",
       "    }\n",
       "\n",
       "    .dataframe tbody tr th {\n",
       "        vertical-align: top;\n",
       "    }\n",
       "\n",
       "    .dataframe thead th {\n",
       "        text-align: right;\n",
       "    }\n",
       "</style>\n",
       "<table border=\"1\" class=\"dataframe\">\n",
       "  <thead>\n",
       "    <tr style=\"text-align: right;\">\n",
       "      <th></th>\n",
       "      <th>Variable</th>\n",
       "      <th>Statistics</th>\n",
       "      <th>Distribution</th>\n",
       "    </tr>\n",
       "  </thead>\n",
       "  <tbody>\n",
       "    <tr>\n",
       "      <th>0</th>\n",
       "      <td>N_Distribution_1</td>\n",
       "      <td>NaN</td>\n",
       "      <td>normal</td>\n",
       "    </tr>\n",
       "    <tr>\n",
       "      <th>1</th>\n",
       "      <td>N_Distribution_2</td>\n",
       "      <td>NaN</td>\n",
       "      <td>normal</td>\n",
       "    </tr>\n",
       "    <tr>\n",
       "      <th>2</th>\n",
       "      <td>N_Distribution_3</td>\n",
       "      <td>NaN</td>\n",
       "      <td>normal</td>\n",
       "    </tr>\n",
       "    <tr>\n",
       "      <th>3</th>\n",
       "      <td>Uniform Distribution1</td>\n",
       "      <td>NaN</td>\n",
       "      <td>non-normal</td>\n",
       "    </tr>\n",
       "    <tr>\n",
       "      <th>4</th>\n",
       "      <td>Exponential distribution.</td>\n",
       "      <td>NaN</td>\n",
       "      <td>non-normal</td>\n",
       "    </tr>\n",
       "    <tr>\n",
       "      <th>5</th>\n",
       "      <td>Uniform Distribution2</td>\n",
       "      <td>NaN</td>\n",
       "      <td>non-normal</td>\n",
       "    </tr>\n",
       "  </tbody>\n",
       "</table>\n",
       "</div>"
      ],
      "text/plain": [
       "                    Variable Statistics Distribution\n",
       "0           N_Distribution_1        NaN       normal\n",
       "1           N_Distribution_2        NaN       normal\n",
       "2           N_Distribution_3        NaN       normal\n",
       "3      Uniform Distribution1        NaN   non-normal\n",
       "4  Exponential distribution.        NaN   non-normal\n",
       "5      Uniform Distribution2        NaN   non-normal"
      ]
     },
     "execution_count": 77,
     "metadata": {},
     "output_type": "execute_result"
    }
   ],
   "source": [
    "table[\"Distribution\"]=['normal' if 'N_Distribution' in i else 'non-normal'\n",
    "                          for i in table[\"Variable\"]]\n",
    "table"
   ]
  },
  {
   "cell_type": "markdown",
   "metadata": {},
   "source": [
    "<h4></h4>"
   ]
  },
  {
   "cell_type": "markdown",
   "metadata": {},
   "source": [
    "<h4>Розрахувати для всіх змінних, що розподілені за нормальним законом розрахувати середне значення та стандартне відхилення. Записати в таблицю. Форма запису: Середнє [стандартне відхилення].</h4>"
   ]
  },
  {
   "cell_type": "code",
   "execution_count": 120,
   "metadata": {},
   "outputs": [
    {
     "data": {
      "text/html": [
       "<div>\n",
       "<style scoped>\n",
       "    .dataframe tbody tr th:only-of-type {\n",
       "        vertical-align: middle;\n",
       "    }\n",
       "\n",
       "    .dataframe tbody tr th {\n",
       "        vertical-align: top;\n",
       "    }\n",
       "\n",
       "    .dataframe thead th {\n",
       "        text-align: right;\n",
       "    }\n",
       "</style>\n",
       "<table border=\"1\" class=\"dataframe\">\n",
       "  <thead>\n",
       "    <tr style=\"text-align: right;\">\n",
       "      <th></th>\n",
       "      <th>Variable</th>\n",
       "      <th>Statistics</th>\n",
       "      <th>Distribution</th>\n",
       "    </tr>\n",
       "  </thead>\n",
       "  <tbody>\n",
       "    <tr>\n",
       "      <th>0</th>\n",
       "      <td>N_Distribution_1</td>\n",
       "      <td>0.472 [0.873]</td>\n",
       "      <td>normal</td>\n",
       "    </tr>\n",
       "    <tr>\n",
       "      <th>1</th>\n",
       "      <td>N_Distribution_2</td>\n",
       "      <td>-0.174 [1.371]</td>\n",
       "      <td>normal</td>\n",
       "    </tr>\n",
       "    <tr>\n",
       "      <th>2</th>\n",
       "      <td>N_Distribution_3</td>\n",
       "      <td>-0.107 [1.194]</td>\n",
       "      <td>normal</td>\n",
       "    </tr>\n",
       "    <tr>\n",
       "      <th>3</th>\n",
       "      <td>Uniform Distribution1</td>\n",
       "      <td>1.610 [0.261]</td>\n",
       "      <td>non-normal</td>\n",
       "    </tr>\n",
       "    <tr>\n",
       "      <th>4</th>\n",
       "      <td>Exponential distribution.</td>\n",
       "      <td>5.206 [7.124]</td>\n",
       "      <td>non-normal</td>\n",
       "    </tr>\n",
       "    <tr>\n",
       "      <th>5</th>\n",
       "      <td>Uniform Distribution2</td>\n",
       "      <td>0.577 [0.311]</td>\n",
       "      <td>non-normal</td>\n",
       "    </tr>\n",
       "  </tbody>\n",
       "</table>\n",
       "</div>"
      ],
      "text/plain": [
       "                    Variable      Statistics Distribution\n",
       "0           N_Distribution_1   0.472 [0.873]       normal\n",
       "1           N_Distribution_2  -0.174 [1.371]       normal\n",
       "2           N_Distribution_3  -0.107 [1.194]       normal\n",
       "3      Uniform Distribution1   1.610 [0.261]   non-normal\n",
       "4  Exponential distribution.   5.206 [7.124]   non-normal\n",
       "5      Uniform Distribution2   0.577 [0.311]   non-normal"
      ]
     },
     "execution_count": 120,
     "metadata": {},
     "output_type": "execute_result"
    }
   ],
   "source": [
    "n_df=pd.DataFrame((myData), columns=myData.keys())\n",
    "\n",
    "for _,val in table.iterrows:\n",
    "    val[\"Statistics\"] = \"{:.3f} [{:.3f}]\".format(\n",
    "        n_df[val[\"Variable\"]].mean(),n_df[val[\"Variable\"]].std()) if val[\"Distribution\"] != \"non-normal\" else \"{:.3f} [{:.3f}; {:.3f}]\".format(\n",
    "        n_df[val[\"Variable\"]].median(),n_df[name].quantile(0.25),n_df[val[\"Variable\"]].quantile(0.75))\n",
    "\n",
    "        \n",
    "table"
   ]
  },
  {
   "cell_type": "markdown",
   "metadata": {},
   "source": [
    "<h4>Розрахувати для всіх змінних, що розподілені за розподілом відсутнім від нормального розрахувати медіану та інтерквартильний розмах. Записати в таблицю. Форма запису: Медіана [25%; 75%].\n",
    "Зберегти таблицю в пдф форматі</h4>"
   ]
  },
  {
   "cell_type": "code",
   "execution_count": 133,
   "metadata": {},
   "outputs": [
    {
     "data": {
      "image/png": "[encoded data removed]",
      "text/plain": [
       "<Figure size 1080x720 with 1 Axes>"
      ]
     },
     "metadata": {},
     "output_type": "display_data"
    }
   ],
   "source": [
    "f,ax=plt.subplots(figsize=(15,10))\n",
    "ax.axis('off')\n",
    "table_to_save=ax.table(cellText=table.values, colLabels=table.columns)\n",
    "\n",
    "to_save=pdf.PdfPages(\"table.pdf\") \n",
    "to_save.savefig(f) \n",
    "to_save.close()"
   ]
  },
  {
   "cell_type": "code",
   "execution_count": null,
   "metadata": {},
   "outputs": [],
   "source": []
  },
  {
   "cell_type": "code",
   "execution_count": null,
   "metadata": {},
   "outputs": [],
   "source": []
  }
 ],
 "metadata": {
  "kernelspec": {
   "display_name": "Python 3",
   "language": "python",
   "name": "python3"
  },
  "language_info": {
   "codemirror_mode": {
    "name": "ipython",
    "version": 3
   },
   "file_extension": ".py",
   "mimetype": "text/x-python",
   "name": "python",
   "nbconvert_exporter": "python",
   "pygments_lexer": "ipython3",
   "version": "3.6.9"
  }
 },
 "nbformat": 4,
 "nbformat_minor": 4
}
