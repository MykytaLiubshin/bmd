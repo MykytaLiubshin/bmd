{
 "cells": [
  {
   "cell_type": "markdown",
   "metadata": {},
   "source": [
    "<h1>Аналіз та обробка БМД</h1>\n",
    "<h2>БС-82</h2>\n",
    "<h3 style=\"font-family:sans-serif;\">Микита Любшин<h3>\n",
    "  <link rel =\"stylesheet\" href=\"style.css\"></link>\n",
    "    <h4>Робота 6</h4>"
   ]
  },
  {
   "cell_type": "markdown",
   "metadata": {},
   "source": [
    "\n",
    "<h1>Дані</h1>\n",
    "\n",
    "Дані представляють собою кількість разів, після яких гравець у DnD викидує дві 20 на двадцятигранному кубі підряд.\n",
    "Кожен успішний раз число спроб записується.\n",
    "\n",
    "Т.я. під час карантину грати в Dungeons and Dragons з іншими людьми є мойже неможливим, два гравці використовують онлайн-ботів для симуляції кидка кубика.\n",
    "\n",
    "Групи представляють собою число спроб які виконує перший та другий гравець відповідно.\n",
    "\n",
    "Гравці є близнюками та не можуть змінювати результату кидка кубика.\n",
    "\n",
    "Єдина відмінність між гравцями в тому, що перший використовує бота, що працює з python бібліотекою random, а інший - бота, що працює на numpy.random."
   ]
  },
  {
   "cell_type": "code",
   "execution_count": 1,
   "metadata": {},
   "outputs": [],
   "source": [
    "import pandas as pd\n",
    "from time import time\n",
    "from random import randint, seed\n",
    "import seaborn as sns\n",
    "import numpy as np\n",
    "import matplotlib.pyplot as plt\n",
    "import pandas as pd\n",
    "%matplotlib inline"
   ]
  },
  {
   "cell_type": "code",
   "execution_count": 3,
   "metadata": {},
   "outputs": [
    {
     "name": "stdout",
     "output_type": "stream",
     "text": [
      "Elapsed 7.015169620513916s\n",
      "Elapsed 53.66251277923584s\n"
     ]
    }
   ],
   "source": [
    "seed( 30 )\n",
    "np.random.seed( 30 )\n",
    "def dec(func):\n",
    "    \n",
    "    def f(*args, **kwargs):\n",
    "        before = time()\n",
    "        ans = func(*args)\n",
    "        after = time()\n",
    "        print(f\"Elapsed {after - before}s\")\n",
    "        return ans\n",
    "    return f\n",
    "    \n",
    "def r():\n",
    "    return randint(1,20)\n",
    "def nt():\n",
    "    return np.random.randint(1,21)\n",
    "\n",
    "@dec\n",
    "def get_n(n, func):\n",
    "    arr = np.array([])\n",
    "    for i in range(n):\n",
    "        k = 0\n",
    "        while( func() + func() != 40 ):\n",
    "            k += 1\n",
    "        arr = np.append(arr, k)\n",
    "    return arr\n",
    "\n",
    "\n",
    "N = 10**4\n",
    "\n",
    "one = get_n(N, r)\n",
    "two = get_n(N, nt)"
   ]
  },
  {
   "cell_type": "code",
   "execution_count": 4,
   "metadata": {},
   "outputs": [
    {
     "data": {
      "text/html": [
       "<div>\n",
       "<style scoped>\n",
       "    .dataframe tbody tr th:only-of-type {\n",
       "        vertical-align: middle;\n",
       "    }\n",
       "\n",
       "    .dataframe tbody tr th {\n",
       "        vertical-align: top;\n",
       "    }\n",
       "\n",
       "    .dataframe thead th {\n",
       "        text-align: right;\n",
       "    }\n",
       "</style>\n",
       "<table border=\"1\" class=\"dataframe\">\n",
       "  <thead>\n",
       "    <tr style=\"text-align: right;\">\n",
       "      <th></th>\n",
       "      <th>Статистична розбіжність</th>\n",
       "    </tr>\n",
       "    <tr>\n",
       "      <th>Різниця рандомів</th>\n",
       "      <th></th>\n",
       "    </tr>\n",
       "  </thead>\n",
       "  <tbody>\n",
       "    <tr>\n",
       "      <th>Random</th>\n",
       "      <td>402.0108</td>\n",
       "    </tr>\n",
       "    <tr>\n",
       "      <th>Numpy</th>\n",
       "      <td>400.0071</td>\n",
       "    </tr>\n",
       "  </tbody>\n",
       "</table>\n",
       "</div>"
      ],
      "text/plain": [
       "                  Статистична розбіжність\n",
       "Різниця рандомів                         \n",
       "Random                           402.0108\n",
       "Numpy                            400.0071"
      ]
     },
     "execution_count": 4,
     "metadata": {},
     "output_type": "execute_result"
    }
   ],
   "source": [
    "\n",
    "results = pd.DataFrame ( \n",
    "    [np.mean(one), np.mean(two)],\n",
    "    columns = [\"Статистична розбіжність\"],\n",
    "    index = ['Random', 'Numpy']\n",
    ")\n",
    "\n",
    "results.index.name = 'Різниця рандомів'\n",
    "\n",
    "results"
   ]
  },
  {
   "cell_type": "code",
   "execution_count": 5,
   "metadata": {},
   "outputs": [
    {
     "data": {
      "text/html": [
       "<div>\n",
       "<style scoped>\n",
       "    .dataframe tbody tr th:only-of-type {\n",
       "        vertical-align: middle;\n",
       "    }\n",
       "\n",
       "    .dataframe tbody tr th {\n",
       "        vertical-align: top;\n",
       "    }\n",
       "\n",
       "    .dataframe thead th {\n",
       "        text-align: right;\n",
       "    }\n",
       "</style>\n",
       "<table border=\"1\" class=\"dataframe\">\n",
       "  <thead>\n",
       "    <tr style=\"text-align: right;\">\n",
       "      <th></th>\n",
       "      <th>0</th>\n",
       "      <th>1</th>\n",
       "      <th>2</th>\n",
       "      <th>3</th>\n",
       "      <th>4</th>\n",
       "      <th>5</th>\n",
       "      <th>6</th>\n",
       "      <th>7</th>\n",
       "      <th>8</th>\n",
       "      <th>9</th>\n",
       "      <th>...</th>\n",
       "      <th>490</th>\n",
       "      <th>491</th>\n",
       "      <th>492</th>\n",
       "      <th>493</th>\n",
       "      <th>494</th>\n",
       "      <th>495</th>\n",
       "      <th>496</th>\n",
       "      <th>497</th>\n",
       "      <th>498</th>\n",
       "      <th>499</th>\n",
       "    </tr>\n",
       "  </thead>\n",
       "  <tbody>\n",
       "    <tr>\n",
       "      <th>Група-1.Random.randint</th>\n",
       "      <td>404.0</td>\n",
       "      <td>45.0</td>\n",
       "      <td>223.0</td>\n",
       "      <td>82.0</td>\n",
       "      <td>470.0</td>\n",
       "      <td>1864.0</td>\n",
       "      <td>261.0</td>\n",
       "      <td>0.0</td>\n",
       "      <td>243.0</td>\n",
       "      <td>33.0</td>\n",
       "      <td>...</td>\n",
       "      <td>415.0</td>\n",
       "      <td>69.0</td>\n",
       "      <td>360.0</td>\n",
       "      <td>218.0</td>\n",
       "      <td>701.0</td>\n",
       "      <td>527.0</td>\n",
       "      <td>470.0</td>\n",
       "      <td>267.0</td>\n",
       "      <td>26.0</td>\n",
       "      <td>244.0</td>\n",
       "    </tr>\n",
       "    <tr>\n",
       "      <th>Група-2.Numpy.random.randint</th>\n",
       "      <td>220.0</td>\n",
       "      <td>280.0</td>\n",
       "      <td>249.0</td>\n",
       "      <td>359.0</td>\n",
       "      <td>704.0</td>\n",
       "      <td>359.0</td>\n",
       "      <td>112.0</td>\n",
       "      <td>532.0</td>\n",
       "      <td>326.0</td>\n",
       "      <td>80.0</td>\n",
       "      <td>...</td>\n",
       "      <td>481.0</td>\n",
       "      <td>42.0</td>\n",
       "      <td>174.0</td>\n",
       "      <td>271.0</td>\n",
       "      <td>334.0</td>\n",
       "      <td>128.0</td>\n",
       "      <td>492.0</td>\n",
       "      <td>519.0</td>\n",
       "      <td>790.0</td>\n",
       "      <td>1468.0</td>\n",
       "    </tr>\n",
       "  </tbody>\n",
       "</table>\n",
       "<p>2 rows × 500 columns</p>\n",
       "</div>"
      ],
      "text/plain": [
       "                                0      1      2      3      4       5    \\\n",
       "Група-1.Random.randint        404.0   45.0  223.0   82.0  470.0  1864.0   \n",
       "Група-2.Numpy.random.randint  220.0  280.0  249.0  359.0  704.0   359.0   \n",
       "\n",
       "                                6      7      8     9    ...    490   491  \\\n",
       "Група-1.Random.randint        261.0    0.0  243.0  33.0  ...  415.0  69.0   \n",
       "Група-2.Numpy.random.randint  112.0  532.0  326.0  80.0  ...  481.0  42.0   \n",
       "\n",
       "                                492    493    494    495    496    497    498  \\\n",
       "Група-1.Random.randint        360.0  218.0  701.0  527.0  470.0  267.0   26.0   \n",
       "Група-2.Numpy.random.randint  174.0  271.0  334.0  128.0  492.0  519.0  790.0   \n",
       "\n",
       "                                 499  \n",
       "Група-1.Random.randint         244.0  \n",
       "Група-2.Numpy.random.randint  1468.0  \n",
       "\n",
       "[2 rows x 500 columns]"
      ]
     },
     "execution_count": 5,
     "metadata": {},
     "output_type": "execute_result"
    }
   ],
   "source": [
    "data = pd.DataFrame(\n",
    "{\n",
    "    \"Група-1.Random.randint\": one[3000:3500],\n",
    "    \"Група-2.Numpy.random.randint\": two[3000:3500]\n",
    "    \n",
    "})\n",
    "data.T"
   ]
  },
  {
   "cell_type": "markdown",
   "metadata": {},
   "source": [
    "<p>\n",
    "2. Побудувати графік, що відображає розкид даних в групах.</p>"
   ]
  },
  {
   "cell_type": "code",
   "execution_count": 6,
   "metadata": {},
   "outputs": [
    {
     "data": {
      "image/png": "[encoded data removed]",
      "text/plain": [
       "<Figure size 864x360 with 1 Axes>"
      ]
     },
     "metadata": {
      "needs_background": "light"
     },
     "output_type": "display_data"
    }
   ],
   "source": [
    "fig, ax = plt.subplots(figsize=(12,5))\n",
    "fig =  sns.boxplot(orient = \"h\",data = data, palette=\"pastel\")\n"
   ]
  },
  {
   "cell_type": "markdown",
   "metadata": {},
   "source": [
    "<p>\n",
    "3.Для оцінки зв'язку між групами за коефіцієнтом кореляції Пірсона. Функція має повертати значення коефіцієнту кореляції, значення ступеня свободи та результат оцінки значимості зв'зку (significant або not significant).</p>"
   ]
  },
  {
   "cell_type": "code",
   "execution_count": 10,
   "metadata": {},
   "outputs": [],
   "source": [
    "def cor_pearson(data):\n",
    "    r_t = len(data)*(sum(data.iloc[:,0]*data.iloc[:,1])) - sum(data.iloc[:,0])*sum(data.iloc[:,1])\n",
    "    r_b = (len(data)*sum(data.iloc[:,0]**2) - sum(data.iloc[:,0])**2)*(len(data)*sum(data.iloc[:,1]**2) - sum(data.iloc[:,1])**2)\n",
    "    r = r_t/np.sqrt(r_b)\n",
    "    \n",
    "    correlation_table = pd.read_excel(\"static/correlation-table.xlsx\",encoding = 'utf-8')\n",
    "    \n",
    "    df = len(data)-2\n",
    "    i, table_val = 0, 0\n",
    "    if(df < 130):\n",
    "        while(i < len(correlation_table) and table_val == 0):\n",
    "            if(df < int(correlation_table.iloc[i,0])):\n",
    "                if(df != correlation_table.iloc[i-1,0]):\n",
    "                    table_val = (correlation_table.iloc[i-1,1] if((correlation_table.iloc[i,0]-df) >= abs(correlation_table.iloc[i-1,0]-df)) else correlation_table.iloc[i,1])\n",
    "                else:\n",
    "                    table_val = correlation_table.iloc[i-1,1]\n",
    "            i += 1\n",
    "    else:\n",
    "        table_val = correlation_table.iloc[36,1]\n",
    "    significant = \"significant\" if(abs(r) > table_val) else \"not significant\"\n",
    "    return r,df,significant\n",
    "def print_result_pearson_student(set_pir):\n",
    "    print(f\"\\n\\tЗначення коефіцієнту кореляції - {set_pir[0]}\\n\\tЗначення ступеня свободи - {set_pir[1]}\\n\\tРезультат оцінки значимості зв'зку - {set_pir[2]}\")"
   ]
  },
  {
   "cell_type": "code",
   "execution_count": 11,
   "metadata": {},
   "outputs": [
    {
     "name": "stdout",
     "output_type": "stream",
     "text": [
      "\n",
      "\tЗначення коефіцієнту кореляції - 0.04051047567436355\n",
      "\tЗначення ступеня свободи - 498\n",
      "\tРезультат оцінки значимості зв'зку - not significant\n"
     ]
    }
   ],
   "source": [
    "result_pearson = cor_pearson(data)\n",
    "print_result_pearson_student(result_pearson)"
   ]
  },
  {
   "cell_type": "markdown",
   "metadata": {},
   "source": [
    "\n",
    "4.Для визначення відмінності між групами за критерієм Стьюдента. Функція має повертати значення критерію Стьюдента,значення ступеня свободи та результат оцінки значимості зв'зку (significant або not significant)."
   ]
  },
  {
   "cell_type": "code",
   "execution_count": 12,
   "metadata": {},
   "outputs": [
    {
     "name": "stdout",
     "output_type": "stream",
     "text": [
      "\n",
      "\tЗначення коефіцієнту кореляції - 0.912886071695932\n",
      "\tЗначення ступеня свободи - 499\n",
      "\tРезультат оцінки значимості зв'зку - not significant\n"
     ]
    }
   ],
   "source": [
    "def student(data):\n",
    "    data[\"Difference\"] = data.iloc[:,0]-data.iloc[:,1]\n",
    "    M = np.mean(data.iloc[:,2])\n",
    "    st = np.std(data.iloc[:,2])\n",
    "    t = (M/st) * np.sqrt(len(data))\n",
    "    df = len(data)-1\n",
    "    \n",
    "    table_values = pd.read_excel(\"static/student_coef_table.xlsx\",encoding = 'utf-8')\n",
    "    \n",
    "    table_val, i = 0, 0\n",
    "    while(i < len(table_values) and table_val == 0):\n",
    "        if(df < int(table_values.iloc[i,0])):\n",
    "            if(df != table_values.iloc[i-1,0]):\n",
    "                table_val = (table_values.iloc[i-1,1] if((table_values.iloc[i,0]-df) >= abs(table_values.iloc[i-1,0]-df)) else table_values.iloc[i,1])\n",
    "            else:\n",
    "                table_val = table_values.iloc[i-1,1]\n",
    "        i += 1\n",
    "                \n",
    "    significant = \"significant\" if(t < table_val) else \"not significant\"\n",
    "    return t,df,significant\n",
    "    \n",
    "    \n",
    "student_data = student(data)\n",
    "print_result_pearson_student(student_data)"
   ]
  },
  {
   "cell_type": "markdown",
   "metadata": {},
   "source": [
    "<p>5.Перевірити розбіжність на між групами на даних з п. 1.</p>"
   ]
  },
  {
   "cell_type": "code",
   "execution_count": 13,
   "metadata": {},
   "outputs": [
    {
     "data": {
      "text/html": [
       "<div>\n",
       "<style scoped>\n",
       "    .dataframe tbody tr th:only-of-type {\n",
       "        vertical-align: middle;\n",
       "    }\n",
       "\n",
       "    .dataframe tbody tr th {\n",
       "        vertical-align: top;\n",
       "    }\n",
       "\n",
       "    .dataframe thead th {\n",
       "        text-align: right;\n",
       "    }\n",
       "</style>\n",
       "<table border=\"1\" class=\"dataframe\">\n",
       "  <thead>\n",
       "    <tr style=\"text-align: right;\">\n",
       "      <th></th>\n",
       "      <th>Критерій Пірсона</th>\n",
       "      <th>Критерій Стьюдента</th>\n",
       "    </tr>\n",
       "  </thead>\n",
       "  <tbody>\n",
       "    <tr>\n",
       "      <th>Значення</th>\n",
       "      <td>0.0405105</td>\n",
       "      <td>0.912886</td>\n",
       "    </tr>\n",
       "    <tr>\n",
       "      <th>Cтупінь свободи</th>\n",
       "      <td>498</td>\n",
       "      <td>499</td>\n",
       "    </tr>\n",
       "    <tr>\n",
       "      <th>Значимість зв'язку</th>\n",
       "      <td>not significant</td>\n",
       "      <td>not significant</td>\n",
       "    </tr>\n",
       "  </tbody>\n",
       "</table>\n",
       "</div>"
      ],
      "text/plain": [
       "                   Критерій Пірсона Критерій Стьюдента\n",
       "Значення                  0.0405105           0.912886\n",
       "Cтупінь свободи                 498                499\n",
       "Значимість зв'язку  not significant    not significant"
      ]
     },
     "execution_count": 13,
     "metadata": {},
     "output_type": "execute_result"
    }
   ],
   "source": [
    "table = pd.DataFrame({\n",
    "    \"Критерій Пірсона\":result_pearson,\n",
    "    \"Критерій Стьюдента\":student_data\n",
    "}, index = [\"Значення\", \"Cтупінь свободи\", \"Значимість зв'язку\"])\n",
    "table"
   ]
  },
  {
   "cell_type": "markdown",
   "metadata": {},
   "source": [
    "6. Сформувати висновок про взаємозв'язок між групами та про їх розбіжність."
   ]
  },
  {
   "cell_type": "code",
   "execution_count": 14,
   "metadata": {},
   "outputs": [
    {
     "name": "stdout",
     "output_type": "stream",
     "text": [
      "Корреляціонний зв'язок між ними відсутній\n",
      "Парні групи відмінні\n"
     ]
    }
   ],
   "source": [
    "print(\"Корреляціонний зв'язок між ними статистично значимий\" if table.iloc[2,0] == \"significant\" else \"Корреляціонний зв'язок між ними відсутній\")\n",
    "print(\"Парні групи рівні\" if table.iloc[2,1] == \"significant\" else \"Парні групи відмінні\")\n"
   ]
  }
 ],
 "metadata": {
  "kernelspec": {
   "display_name": "Python 3",
   "language": "python",
   "name": "python3"
  },
  "language_info": {
   "codemirror_mode": {
    "name": "ipython",
    "version": 3
   },
   "file_extension": ".py",
   "mimetype": "text/x-python",
   "name": "python",
   "nbconvert_exporter": "python",
   "pygments_lexer": "ipython3",
   "version": "3.6.9"
  }
 },
 "nbformat": 4,
 "nbformat_minor": 4
}
